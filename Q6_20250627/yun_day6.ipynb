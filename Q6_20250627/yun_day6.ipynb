{
 "cells": [
  {
   "cell_type": "code",
   "execution_count": null,
   "id": "5cccd8bd",
   "metadata": {},
   "outputs": [],
   "source": [
    "class Node:\n",
    "    def __init__(self, data):\n",
    "        self.data = data\n",
    "        self.next = None\n",
    "\n",
    "class LinkedList:\n",
    "    def __init__(self):\n",
    "        self.head = None\n",
    "\n",
    "    def append(self, data):\n",
    "        new_node = Node(data)\n",
    "        if not self.head:\n",
    "            self.head = new_node\n",
    "        else:\n",
    "            current = self.head\n",
    "            while current.next:\n",
    "                current = current.next\n",
    "            current.next = new_node\n",
    "\n",
    "    def extend(self, *args):\n",
    "        for data in args:\n",
    "            self.append(data)\n",
    "\n",
    "    def to_list(self):\n",
    "        result = []\n",
    "        current = self.head\n",
    "        while current:\n",
    "            result.append(current.data)\n",
    "            current = current.next\n",
    "        return result\n",
    "\n",
    "\n",
    "def mergeTwoLists(list1, list2):\n",
    "    dummy = Node(0)\n",
    "    tail = dummy\n",
    "    p1 = list1.head\n",
    "    p2 = list2.head\n",
    "\n",
    "    while p1 and p2:\n",
    "        if p1.data < p2.data:\n",
    "            tail.next = p1\n",
    "            p1 = p1.next\n",
    "        else:\n",
    "            tail.next = p2\n",
    "            p2 = p2.next\n",
    "        tail = tail.next\n",
    "\n",
    "    tail.next = p1 if p1 else p2\n",
    "\n",
    "    # 병합된 리스트 반환\n",
    "    merged = LinkedList()\n",
    "    merged.head = dummy.next\n",
    "    return merged\n"
   ]
  },
  {
   "cell_type": "code",
   "execution_count": null,
   "id": "fe545cf2",
   "metadata": {},
   "outputs": [
    {
     "name": "stdout",
     "output_type": "stream",
     "text": [
      "[1, 1, 2, 3, 4, 4]\n"
     ]
    }
   ],
   "source": [
    "l1 = LinkedList()\n",
    "l1.extend(1, 2, 4)\n",
    "\n",
    "l2 = LinkedList()\n",
    "l2.extend(1, 3, 4)\n",
    "\n",
    "merged = mergeTwoLists(l1, l2)\n",
    "print(merged.to_list())  \n"
   ]
  },
  {
   "cell_type": "code",
   "execution_count": 19,
   "id": "2cec147e",
   "metadata": {},
   "outputs": [
    {
     "name": "stdout",
     "output_type": "stream",
     "text": [
      "[0]\n"
     ]
    }
   ],
   "source": [
    "l1 = LinkedList()\n",
    "l1.extend()\n",
    "\n",
    "l2 = LinkedList()\n",
    "l2.extend(0)\n",
    "\n",
    "merged = mergeTwoLists(l1, l2)\n",
    "print(merged.to_list())  \n"
   ]
  }
 ],
 "metadata": {
  "kernelspec": {
   "display_name": "python-env-311",
   "language": "python",
   "name": "python3"
  },
  "language_info": {
   "codemirror_mode": {
    "name": "ipython",
    "version": 3
   },
   "file_extension": ".py",
   "mimetype": "text/x-python",
   "name": "python",
   "nbconvert_exporter": "python",
   "pygments_lexer": "ipython3",
   "version": "3.11.11"
  }
 },
 "nbformat": 4,
 "nbformat_minor": 5
}
