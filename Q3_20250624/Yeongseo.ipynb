{
 "cells": [
  {
   "cell_type": "code",
   "execution_count": null,
   "id": "f0454c72",
   "metadata": {},
   "outputs": [],
   "source": [
    "\"\"\"\n",
    "📘 Problem Description (문제 설명)\n",
    "\n",
    "Roman numerals are represented by seven different symbols: `I`, `V`, `X`, `L`, `C`, `D`, and `M`.  \n",
    "→ 로마 숫자는 `I`, `V`, `X`, `L`, `C`, `D`, `M`의 7가지 기호로 표현됩니다.\n",
    "\n",
    "| Symbol | Value |\n",
    "|--------|-------|\n",
    "| I      | 1     |\n",
    "| V      | 5     |\n",
    "| X      | 10    |\n",
    "| L      | 50    |\n",
    "| C      | 100   |\n",
    "| D      | 500   |\n",
    "| M      | 1000  |\n",
    "\n",
    "- 예를 들어 2는 `II`, 12는 `XII`, 27은 `XXVII`로 표현됩니다.\n",
    "- 일반적으로 숫자가 큰 기호부터 작은 기호 순서대로 작성됩니다.\n",
    "- 그러나 4는 `IIII`가 아니라 `IV`로 표기되며, 이는 **작은 수가 큰 수 앞에 올 경우 그 값을 뺀다**는 규칙 때문입니다.\n",
    "\n",
    "이 규칙이 적용되는 경우는 총 6가지입니다:\n",
    "\n",
    "- `I`는 `V(5)`, `X(10)` 앞에 올 수 있습니다 → `4(IV)`, `9(IX)`\n",
    "- `X`는 `L(50)`, `C(100)` 앞에 올 수 있습니다 → `40(XL)`, `90(XC)`\n",
    "- `C`는 `D(500)`, `M(1000)` 앞에 올 수 있습니다 → `400(CD)`, `900(CM)`\n",
    "\n",
    "**Given a Roman numeral, convert it to an integer.**  \n",
    "→ 주어진 로마 숫자를 정수로 변환하세요.\n",
    "\"\"\""
   ]
  },
  {
   "cell_type": "markdown",
   "id": "1cdc57ae",
   "metadata": {},
   "source": [
    "| Symbol | Value |\n",
    "|--------|-------|\n",
    "| I      | 1     |\n",
    "| V      | 5     |\n",
    "| X      | 10    |\n",
    "| L      | 50    |\n",
    "| C      | 100   |\n",
    "| D      | 500   |\n",
    "| M      | 1000  |"
   ]
  },
  {
   "cell_type": "code",
   "execution_count": 1,
   "id": "e3f6eedd",
   "metadata": {},
   "outputs": [],
   "source": [
    "my_dict = {'I':1,\n",
    "           'V':5,\n",
    "           'X':10,\n",
    "           'L':50,\n",
    "           'C':100,\n",
    "           'D':500,\n",
    "           'M':1000}"
   ]
  },
  {
   "cell_type": "code",
   "execution_count": 2,
   "id": "7aa47ed8",
   "metadata": {},
   "outputs": [
    {
     "name": "stdout",
     "output_type": "stream",
     "text": [
      "I\n",
      "V\n",
      "X\n",
      "L\n",
      "C\n",
      "D\n",
      "M\n"
     ]
    }
   ],
   "source": [
    "for key in my_dict.keys():\n",
    "    print(key)"
   ]
  },
  {
   "cell_type": "code",
   "execution_count": 3,
   "id": "8c2fd2f7",
   "metadata": {},
   "outputs": [
    {
     "name": "stdout",
     "output_type": "stream",
     "text": [
      "1\n",
      "5\n",
      "10\n",
      "50\n",
      "100\n",
      "500\n",
      "1000\n"
     ]
    }
   ],
   "source": [
    "for value in my_dict.values():\n",
    "    print(value)"
   ]
  },
  {
   "cell_type": "code",
   "execution_count": 4,
   "id": "4f5f9456",
   "metadata": {},
   "outputs": [
    {
     "name": "stdout",
     "output_type": "stream",
     "text": [
      "key:I, value:1\n",
      "key:V, value:5\n",
      "key:X, value:10\n",
      "key:L, value:50\n",
      "key:C, value:100\n",
      "key:D, value:500\n",
      "key:M, value:1000\n"
     ]
    }
   ],
   "source": [
    "for key, value in my_dict.items():\n",
    "    print(f'key:{key}, value:{value}')"
   ]
  },
  {
   "cell_type": "markdown",
   "id": "6cf491c6",
   "metadata": {},
   "source": [
    "이는 **작은 수가 큰 수 앞에 올 경우 그 값을 뺀다**는 규칙 때문입니다."
   ]
  },
  {
   "cell_type": "code",
   "execution_count": 5,
   "id": "cf5ed649",
   "metadata": {},
   "outputs": [
    {
     "ename": "TypeError",
     "evalue": "'<' not supported between instances of 'str' and 'int'",
     "output_type": "error",
     "traceback": [
      "\u001b[31m---------------------------------------------------------------------------\u001b[39m",
      "\u001b[31mTypeError\u001b[39m                                 Traceback (most recent call last)",
      "\u001b[36mCell\u001b[39m\u001b[36m \u001b[39m\u001b[32mIn[5]\u001b[39m\u001b[32m, line 3\u001b[39m\n\u001b[32m      1\u001b[39m k1 = \u001b[38;5;28minput\u001b[39m()\n\u001b[32m      2\u001b[39m \u001b[38;5;28;01mfor\u001b[39;00m k1, k2 \u001b[38;5;129;01min\u001b[39;00m my_dict.items():\n\u001b[32m----> \u001b[39m\u001b[32m3\u001b[39m     \u001b[38;5;28;01mif\u001b[39;00m \u001b[43mk1\u001b[49m\u001b[43m \u001b[49m\u001b[43m<\u001b[49m\u001b[43m \u001b[49m\u001b[43mk2\u001b[49m:\n\u001b[32m      4\u001b[39m         k1 + k2 == k1 - k2\n\u001b[32m      5\u001b[39m         \u001b[38;5;28mprint\u001b[39m(k2)\n",
      "\u001b[31mTypeError\u001b[39m: '<' not supported between instances of 'str' and 'int'"
     ]
    }
   ],
   "source": [
    "k1 = input()\n",
    "for k1, k2 in my_dict.items():\n",
    "    if k1 < k2:\n",
    "        k1 + k2 == k1 - k2\n",
    "        print(k2)"
   ]
  }
 ],
 "metadata": {
  "kernelspec": {
   "display_name": "python-env-311",
   "language": "python",
   "name": "python3"
  },
  "language_info": {
   "codemirror_mode": {
    "name": "ipython",
    "version": 3
   },
   "file_extension": ".py",
   "mimetype": "text/x-python",
   "name": "python",
   "nbconvert_exporter": "python",
   "pygments_lexer": "ipython3",
   "version": "3.11.11"
  }
 },
 "nbformat": 4,
 "nbformat_minor": 5
}
