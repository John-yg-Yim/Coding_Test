{
 "cells": [
  {
   "cell_type": "code",
   "execution_count": null,
   "id": "6612600d",
   "metadata": {},
   "outputs": [],
   "source": [
    "#   Roman numerals are represented by seven different symbols: I, V, X, L, C, D, and M.\n",
    "#   → 로마 숫자는 I, V, X, L, C, D, M의 7가지 기호로 표현됩니다.\n",
    "\n",
    "#   Symbol\tValue\n",
    "#   I\t1\n",
    "#   V\t5\n",
    "#   X\t10\n",
    "#   L\t50\n",
    "#   C\t100\n",
    "#   D\t500\n",
    "#   M\t1000\n",
    "#   예를 들어 2는 II, 12는 XII, 27은 XXVII로 표현됩니다.\n",
    "#   일반적으로 숫자가 큰 기호부터 작은 기호 순서대로 작성됩니다.\n",
    "#   그러나 4는 IIII가 아니라 IV로 표기되며, 이는 작은 수가 큰 수 앞에 올 경우 그 값을 뺀다는 규칙 때문입니다.\n",
    "#   이 규칙이 적용되는 경우는 총 6가지입니다:\n",
    "\n",
    "#   I는 V(5), X(10) 앞에 올 수 있습니다 → 4(IV), 9(IX)\n",
    "#   X는 L(50), C(100) 앞에 올 수 있습니다 → 40(XL), 90(XC)\n",
    "#   C는 D(500), M(1000) 앞에 올 수 있습니다 → 400(CD), 900(CM)\n",
    "#   Given a Roman numeral, convert it to an integer.\n",
    "#   → 주어진 로마 숫자를 정수로 변환하세요."
   ]
  },
  {
   "cell_type": "code",
   "execution_count": null,
   "id": "d5251d5a",
   "metadata": {},
   "outputs": [],
   "source": [
    "#   1 <= s.length <= 15\n",
    "#   s는 오직 'I', 'V', 'X', 'L', 'C', 'D', 'M' 문자만 포함\n",
    "#   s는 [1, 3999] 범위 내에서 유효한 로마 숫자임이 보장됩니다."
   ]
  },
  {
   "cell_type": "code",
   "execution_count": 2,
   "id": "56d42a0e",
   "metadata": {},
   "outputs": [],
   "source": [
    "map = {\n",
    "        \"I\":1,\n",
    "        \"V\":5,\n",
    "        \"X\":10,\n",
    "        \"L\":50,\n",
    "        \"C\":100,\n",
    "        \"D\":500,\n",
    "        \"M\":1000\n",
    "        }\n"
   ]
  },
  {
   "cell_type": "code",
   "execution_count": 3,
   "id": "827c72cd",
   "metadata": {},
   "outputs": [
    {
     "name": "stdout",
     "output_type": "stream",
     "text": [
      "3\n"
     ]
    }
   ],
   "source": [
    "s = \"III\"\n",
    "num = 0\n",
    "cNum = 0\n",
    "nNum = 0\n",
    "for i in range(len(s)):\n",
    "    txt = s[i]\n",
    "    if i == 0 :\n",
    "        cNum = map[txt]\n",
    "        num += cNum\n",
    "    elif i > 0 and cNum >= map[txt] :\n",
    "        cNum = map[txt]\n",
    "        num += cNum\n",
    "        nNum = cNum\n",
    "        # if nNum <= map[txt]:\n",
    "    elif i > 0 and cNum <= map[txt] :\n",
    "        cNum = map[txt] - cNum\n",
    "        num += cNum\n",
    "        num -= nNum\n",
    "        nNum = 0\n",
    "print(num)\n"
   ]
  },
  {
   "cell_type": "code",
   "execution_count": 4,
   "id": "5f222855",
   "metadata": {},
   "outputs": [
    {
     "name": "stdout",
     "output_type": "stream",
     "text": [
      "58\n"
     ]
    }
   ],
   "source": [
    "s = \"LVIII\"\n",
    "num = 0\n",
    "cNum = 0\n",
    "nNum = 0\n",
    "for i in range(len(s)):\n",
    "    txt = s[i]\n",
    "    if i == 0 :\n",
    "        cNum = map[txt]\n",
    "        num += cNum\n",
    "    elif i > 0 and cNum >= map[txt] :\n",
    "        cNum = map[txt]\n",
    "        num += cNum\n",
    "        nNum = cNum\n",
    "        # if nNum <= map[txt]:\n",
    "    elif i > 0 and cNum <= map[txt] :\n",
    "        cNum = map[txt] - cNum\n",
    "        num += cNum\n",
    "        num -= nNum\n",
    "        nNum = 0\n",
    "print(num)"
   ]
  },
  {
   "cell_type": "code",
   "execution_count": 5,
   "id": "286cfa23",
   "metadata": {},
   "outputs": [
    {
     "name": "stdout",
     "output_type": "stream",
     "text": [
      "1994\n"
     ]
    }
   ],
   "source": [
    "s = \"MCMXCIV\"\n",
    "num = 0\n",
    "cNum = 0\n",
    "nNum = 0\n",
    "for i in range(len(s)):\n",
    "    txt = s[i]\n",
    "    if i == 0 :\n",
    "        cNum = map[txt]\n",
    "        num += cNum\n",
    "    elif i > 0 and cNum >= map[txt] :\n",
    "        cNum = map[txt]\n",
    "        num += cNum\n",
    "        nNum = cNum\n",
    "        # if nNum <= map[txt]:\n",
    "    elif i > 0 and cNum <= map[txt] :\n",
    "        cNum = map[txt] - cNum\n",
    "        num += cNum\n",
    "        num -= nNum\n",
    "        nNum = 0\n",
    "print(num)"
   ]
  },
  {
   "cell_type": "code",
   "execution_count": null,
   "id": "6980a807",
   "metadata": {},
   "outputs": [],
   "source": [
    "# 김경보 멋쟁이"
   ]
  }
 ],
 "metadata": {
  "kernelspec": {
   "display_name": "conda-env-311",
   "language": "python",
   "name": "python3"
  },
  "language_info": {
   "codemirror_mode": {
    "name": "ipython",
    "version": 3
   },
   "file_extension": ".py",
   "mimetype": "text/x-python",
   "name": "python",
   "nbconvert_exporter": "python",
   "pygments_lexer": "ipython3",
   "version": "3.11.11"
  }
 },
 "nbformat": 4,
 "nbformat_minor": 5
}
