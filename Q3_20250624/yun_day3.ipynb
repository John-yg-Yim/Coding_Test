{
 "cells": [
  {
   "cell_type": "code",
   "execution_count": 16,
   "id": "868b821d",
   "metadata": {},
   "outputs": [
    {
     "name": "stdout",
     "output_type": "stream",
     "text": [
      "3\n"
     ]
    }
   ],
   "source": [
    "romandict={'I':1, 'V':5, 'X':10, 'L':50, 'C':100, 'D':500, 'M':1000}\n",
    "\n",
    "s1= \"III\"\n",
    "sum=0\n",
    "\n",
    "for i in range(len(s1)):\n",
    "    sum+=romandict[s1[i]]\n",
    "    \n",
    "print(sum)"
   ]
  },
  {
   "cell_type": "code",
   "execution_count": 19,
   "id": "0d80b5be",
   "metadata": {},
   "outputs": [],
   "source": [
    "def romanToInt(s):\n",
    "    roman = {'I': 1, 'V': 5, 'X': 10, 'L': 50,\n",
    "             'C': 100, 'D': 500, 'M': 1000}\n",
    "    \n",
    "    total = 0\n",
    "    prev = 0\n",
    "    for ch in reversed(s):  # 오른쪽부터 보기\n",
    "        curr = roman[ch]\n",
    "        if curr < prev:\n",
    "            total -= curr\n",
    "        else:\n",
    "            total += curr\n",
    "        prev = curr\n",
    "    return total\n"
   ]
  },
  {
   "cell_type": "code",
   "execution_count": 20,
   "id": "053a8853",
   "metadata": {},
   "outputs": [
    {
     "name": "stdout",
     "output_type": "stream",
     "text": [
      "58\n",
      "1994\n"
     ]
    }
   ],
   "source": [
    "# 예제 테스트\n",
    "print(romanToInt(\"LVIII\"))    # 58\n",
    "print(romanToInt(\"MCMXCIV\"))  # 1994\n"
   ]
  },
  {
   "cell_type": "code",
   "execution_count": 13,
   "id": "8cf799df",
   "metadata": {},
   "outputs": [
    {
     "name": "stdout",
     "output_type": "stream",
     "text": [
      "0\n",
      "1\n",
      "3\n",
      "6\n",
      "10\n",
      "15\n",
      "21\n",
      "28\n",
      "36\n",
      "45\n",
      "55\n"
     ]
    }
   ],
   "source": [
    "sum = 0\n",
    "for i in range(11):  \n",
    "    sum += i # sum = sum + i\n",
    "    print(sum)"
   ]
  }
 ],
 "metadata": {
  "kernelspec": {
   "display_name": "python-env-311",
   "language": "python",
   "name": "python3"
  },
  "language_info": {
   "codemirror_mode": {
    "name": "ipython",
    "version": 3
   },
   "file_extension": ".py",
   "mimetype": "text/x-python",
   "name": "python",
   "nbconvert_exporter": "python",
   "pygments_lexer": "ipython3",
   "version": "3.11.11"
  }
 },
 "nbformat": 4,
 "nbformat_minor": 5
}
