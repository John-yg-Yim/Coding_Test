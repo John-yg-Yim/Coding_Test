{
 "cells": [
  {
   "cell_type": "code",
   "execution_count": 6,
   "id": "36e83d71",
   "metadata": {},
   "outputs": [],
   "source": [
    "nums = [1,1,2]\n",
    "nums2 = [0,0,1,1,1,2,2,3,3,4]"
   ]
  },
  {
   "cell_type": "code",
   "execution_count": 5,
   "id": "29c9a921",
   "metadata": {},
   "outputs": [
    {
     "name": "stdout",
     "output_type": "stream",
     "text": [
      "Output: 2 , nums = [1, 2, '_']\n"
     ]
    }
   ],
   "source": [
    "def removeDuplicates(nums):\n",
    "    # 빈 배열이면 0 반환\n",
    "    if not nums:\n",
    "        return 0\n",
    "\n",
    "    # write 포인터 (첫 번째 원소는 항상 고유)\n",
    "    write = 1\n",
    "\n",
    "    # read 포인터로 배열 순회\n",
    "    for i in range(1, len(nums)):\n",
    "        # 이전 값과 다르면 새로운 고유 원소\n",
    "        if nums[i] != nums[i - 1]:\n",
    "            nums[write] = nums[i]\n",
    "            write += 1\n",
    "\n",
    "    return write\n",
    "\n",
    "\n",
    "# 예시 입력\n",
    "nums = [1, 1, 2]\n",
    "\n",
    "# 함수 실행\n",
    "k = removeDuplicates(nums)\n",
    "\n",
    "# 결과 출력\n",
    "print(\"Output:\", k, \", nums =\", nums[:k] + ['_'])\n"
   ]
  }
 ],
 "metadata": {
  "kernelspec": {
   "display_name": "python-env-311",
   "language": "python",
   "name": "python3"
  },
  "language_info": {
   "codemirror_mode": {
    "name": "ipython",
    "version": 3
   },
   "file_extension": ".py",
   "mimetype": "text/x-python",
   "name": "python",
   "nbconvert_exporter": "python",
   "pygments_lexer": "ipython3",
   "version": "3.11.11"
  }
 },
 "nbformat": 4,
 "nbformat_minor": 5
}
