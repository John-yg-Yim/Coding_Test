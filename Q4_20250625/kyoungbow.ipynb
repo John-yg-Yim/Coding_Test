{
 "cells": [
  {
   "cell_type": "code",
   "execution_count": null,
   "id": "6612600d",
   "metadata": {},
   "outputs": [],
   "source": [
    "# Write a function to find the longest common prefix string amongst an array of strings.\n",
    "# → 문자열 배열이 주어졌을 때, 이들 사이에서 가장 긴 공통 접두사를 찾아 반환하세요.\n",
    "\n",
    "# If there is no common prefix, return an empty string \"\".\n",
    "# → 공통 접두사가 없다면, 빈 문자열 \"\"을 반환하세요."
   ]
  },
  {
   "cell_type": "code",
   "execution_count": 6,
   "id": "56d42a0e",
   "metadata": {},
   "outputs": [],
   "source": [
    "map = {\n",
    "        \"I\":1,\n",
    "        \"V\":5,\n",
    "        \"X\":10,\n",
    "        \"L\":50,\n",
    "        \"C\":100,\n",
    "        \"D\":500,\n",
    "        \"M\":1000\n",
    "        }\n"
   ]
  },
  {
   "cell_type": "code",
   "execution_count": null,
   "id": "53d42a13",
   "metadata": {},
   "outputs": [
    {
     "data": {
      "text/plain": [
       "''"
      ]
     },
     "execution_count": 36,
     "metadata": {},
     "output_type": "execute_result"
    }
   ],
   "source": [
    "def dosa(strs):\n",
    "    minStr = min(strs,key=len)\n",
    "    strList = []\n",
    "    for j in range(len(minStr)):\n",
    "        for k in range(j+1, len(minStr)+1):\n",
    "            strList.append(minStr[j:k])\n",
    "    publicStr = [s for s in strList if all(s in word for word in strs)]\n",
    "    maxPublicStr = max(publicStr,key=len) if publicStr else \"\"\n",
    "    return maxPublicStr\n",
    "\n",
    "    "
   ]
  },
  {
   "cell_type": "code",
   "execution_count": 37,
   "id": "2f064bbc",
   "metadata": {},
   "outputs": [
    {
     "data": {
      "text/plain": [
       "'fl'"
      ]
     },
     "execution_count": 37,
     "metadata": {},
     "output_type": "execute_result"
    }
   ],
   "source": [
    "strs = [\"flower\",\"flow\",\"flight\"]\n",
    "dosa(strs)"
   ]
  },
  {
   "cell_type": "code",
   "execution_count": 38,
   "id": "e4a1a13c",
   "metadata": {},
   "outputs": [
    {
     "data": {
      "text/plain": [
       "''"
      ]
     },
     "execution_count": 38,
     "metadata": {},
     "output_type": "execute_result"
    }
   ],
   "source": [
    "strs = [\"dog\",\"racecar\",\"car\"]\n",
    "dosa(strs)"
   ]
  },
  {
   "cell_type": "code",
   "execution_count": 39,
   "id": "a1f2afa9",
   "metadata": {},
   "outputs": [
    {
     "data": {
      "text/plain": [
       "''"
      ]
     },
     "execution_count": 39,
     "metadata": {},
     "output_type": "execute_result"
    }
   ],
   "source": [
    "strs = ['yqomx', 'tgdcja', 'ekqr', 'vxbdy', 'xqaz']\n",
    "dosa(strs)\n",
    "\n",
    "\n"
   ]
  },
  {
   "cell_type": "code",
   "execution_count": 49,
   "id": "cbdd933f",
   "metadata": {},
   "outputs": [
    {
     "data": {
      "text/plain": [
       "''"
      ]
     },
     "execution_count": 49,
     "metadata": {},
     "output_type": "execute_result"
    }
   ],
   "source": [
    "strs1 = [\"apple\", \"banana\", \"cherry\"]\n",
    "dosa(strs1)"
   ]
  },
  {
   "cell_type": "code",
   "execution_count": 50,
   "id": "b39336a2",
   "metadata": {},
   "outputs": [
    {
     "data": {
      "text/plain": [
       "''"
      ]
     },
     "execution_count": 50,
     "metadata": {},
     "output_type": "execute_result"
    }
   ],
   "source": [
    "strs2 = [\"table\", \"chair\", \"couch\"]\n",
    "dosa(strs2)"
   ]
  },
  {
   "cell_type": "code",
   "execution_count": 51,
   "id": "6d2445ae",
   "metadata": {},
   "outputs": [
    {
     "data": {
      "text/plain": [
       "''"
      ]
     },
     "execution_count": 51,
     "metadata": {},
     "output_type": "execute_result"
    }
   ],
   "source": [
    "strs3 = [\"river\", \"mountain\", \"valley\"]\n",
    "dosa(strs3)"
   ]
  },
  {
   "cell_type": "code",
   "execution_count": 52,
   "id": "0e6f5c4d",
   "metadata": {},
   "outputs": [
    {
     "data": {
      "text/plain": [
       "'a'"
      ]
     },
     "execution_count": 52,
     "metadata": {},
     "output_type": "execute_result"
    }
   ],
   "source": [
    "strs4 = [\"happy\", \"sad\", \"angry\"]\n",
    "dosa(strs4)"
   ]
  },
  {
   "cell_type": "code",
   "execution_count": 53,
   "id": "2530c955",
   "metadata": {},
   "outputs": [
    {
     "data": {
      "text/plain": [
       "''"
      ]
     },
     "execution_count": 53,
     "metadata": {},
     "output_type": "execute_result"
    }
   ],
   "source": [
    "\n",
    "strs5 = [\"tiger\", \"lion\", \"zebra\"]\n",
    "dosa(strs5)"
   ]
  },
  {
   "cell_type": "code",
   "execution_count": null,
   "id": "6980a807",
   "metadata": {},
   "outputs": [],
   "source": [
    "# 김경보 멋쟁이"
   ]
  }
 ],
 "metadata": {
  "kernelspec": {
   "display_name": "conda-env-311",
   "language": "python",
   "name": "python3"
  },
  "language_info": {
   "codemirror_mode": {
    "name": "ipython",
    "version": 3
   },
   "file_extension": ".py",
   "mimetype": "text/x-python",
   "name": "python",
   "nbconvert_exporter": "python",
   "pygments_lexer": "ipython3",
   "version": "3.11.11"
  }
 },
 "nbformat": 4,
 "nbformat_minor": 5
}
