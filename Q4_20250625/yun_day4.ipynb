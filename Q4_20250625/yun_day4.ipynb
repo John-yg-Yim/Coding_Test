{
 "cells": [
  {
   "cell_type": "code",
   "execution_count": null,
   "id": "1c5a76f4",
   "metadata": {},
   "outputs": [],
   "source": []
  },
  {
   "cell_type": "code",
   "execution_count": 8,
   "id": "db796459",
   "metadata": {},
   "outputs": [
    {
     "name": "stdout",
     "output_type": "stream",
     "text": [
      "fl\n"
     ]
    }
   ],
   "source": [
    "strs = [\"flower\", \"flow\", \"flight\"]\n",
    "\n",
    "prefix = \"\"\n",
    "for chars in zip(*strs):  \n",
    "    if len(set(chars)) == 1:\n",
    "        prefix += chars[0]\n",
    "    else:\n",
    "        break\n",
    "\n",
    "print(prefix)"
   ]
  },
  {
   "cell_type": "code",
   "execution_count": 10,
   "id": "7971ad56",
   "metadata": {},
   "outputs": [
    {
     "name": "stdout",
     "output_type": "stream",
     "text": [
      "\n"
     ]
    }
   ],
   "source": [
    "strss = [\"dog\",\"racecar\",\"car\"]\n",
    "prefix = \"\"\n",
    "for chars in zip(*strss):  \n",
    "    if len(set(chars)) == 1:\n",
    "        prefix += chars[0]\n",
    "    else:\n",
    "        break\n",
    "\n",
    "print(prefix)"
   ]
  },
  {
   "cell_type": "code",
   "execution_count": 12,
   "id": "3007540a",
   "metadata": {},
   "outputs": [
    {
     "name": "stdout",
     "output_type": "stream",
     "text": [
      "d\n"
     ]
    }
   ],
   "source": [
    "strsss = [\"disdsd\",\"dzgsgs\",\"dizzz\"]\n",
    "prefix = \"\"\n",
    "for chars in zip(*strsss):  \n",
    "    if len(set(chars)) == 1:\n",
    "        prefix += chars[0]\n",
    "    else:\n",
    "        break\n",
    "\n",
    "print(prefix)"
   ]
  }
 ],
 "metadata": {
  "kernelspec": {
   "display_name": "python-env-311",
   "language": "python",
   "name": "python3"
  },
  "language_info": {
   "codemirror_mode": {
    "name": "ipython",
    "version": 3
   },
   "file_extension": ".py",
   "mimetype": "text/x-python",
   "name": "python",
   "nbconvert_exporter": "python",
   "pygments_lexer": "ipython3",
   "version": "3.11.11"
  }
 },
 "nbformat": 4,
 "nbformat_minor": 5
}
