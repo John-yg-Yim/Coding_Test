{
 "cells": [
  {
   "cell_type": "code",
   "execution_count": 1,
   "id": "e2de4869",
   "metadata": {},
   "outputs": [],
   "source": [
    "nums = [1,3,5,6]\n",
    "target1, target2, target3 = 5, 2, 7"
   ]
  },
  {
   "cell_type": "code",
   "execution_count": null,
   "id": "5c7e58cb",
   "metadata": {},
   "outputs": [],
   "source": [
    "def BinarySearch(nums, target, left=0, right=None):\n",
    "    if right is None:\n",
    "        right = len(nums) - 1\n",
    "    \n",
    "    if left > right:\n",
    "        return left\n",
    "    \n",
    "    mid = (left + right) // 2\n",
    "\n",
    "    if nums[mid] == target:\n",
    "        return mid\n",
    "    elif nums[mid] < target:\n",
    "        return BinarySearch(nums, target, mid+1, right)\n",
    "    else:\n",
    "        return BinarySearch(nums, target, left, mid-1)"
   ]
  },
  {
   "cell_type": "code",
   "execution_count": null,
   "id": "03d34373",
   "metadata": {},
   "outputs": [],
   "source": []
  }
 ],
 "metadata": {
  "kernelspec": {
   "display_name": "deeplearning",
   "language": "python",
   "name": "python3"
  },
  "language_info": {
   "codemirror_mode": {
    "name": "ipython",
    "version": 3
   },
   "file_extension": ".py",
   "mimetype": "text/x-python",
   "name": "python",
   "nbconvert_exporter": "python",
   "pygments_lexer": "ipython3",
   "version": "3.11.11"
  }
 },
 "nbformat": 4,
 "nbformat_minor": 5
}
