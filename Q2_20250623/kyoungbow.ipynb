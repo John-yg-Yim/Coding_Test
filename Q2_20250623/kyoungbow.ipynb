{
 "cells": [
  {
   "cell_type": "code",
   "execution_count": null,
   "id": "6612600d",
   "metadata": {},
   "outputs": [],
   "source": [
    "# Given an integer x, return true if x is a palindrome, and false otherwise.\n",
    "# → 정수 x가 주어졌을 때, x가 **팰린드롬(앞에서부터 읽으나 뒤에서부터 읽으나 같은 수)**이면 true를 반환하고, 그렇지 않으면 false를 반환하세요."
   ]
  },
  {
   "cell_type": "code",
   "execution_count": null,
   "id": "e3d87aff",
   "metadata": {},
   "outputs": [],
   "source": [
    "def palindromeNumber(num):\n",
    "    sStr = str(num)[0]\n",
    "    eStr = str(num)[-1]\n",
    "    if sStr == eStr:\n",
    "        return True\n",
    "    else :\n",
    "        return False"
   ]
  },
  {
   "cell_type": "code",
   "execution_count": 13,
   "id": "56d42a0e",
   "metadata": {},
   "outputs": [
    {
     "data": {
      "text/plain": [
       "True"
      ]
     },
     "execution_count": 13,
     "metadata": {},
     "output_type": "execute_result"
    }
   ],
   "source": [
    "x = 121\n",
    "palindromeNumber(x)"
   ]
  },
  {
   "cell_type": "code",
   "execution_count": 14,
   "id": "dbb9bb26",
   "metadata": {},
   "outputs": [
    {
     "data": {
      "text/plain": [
       "False"
      ]
     },
     "execution_count": 14,
     "metadata": {},
     "output_type": "execute_result"
    }
   ],
   "source": [
    "x = -121\n",
    "palindromeNumber(x)"
   ]
  },
  {
   "cell_type": "code",
   "execution_count": null,
   "id": "7f2ab8d6",
   "metadata": {},
   "outputs": [],
   "source": [
    "x = 10\n",
    "palindromeNumber(x)"
   ]
  },
  {
   "cell_type": "code",
   "execution_count": null,
   "id": "6980a807",
   "metadata": {},
   "outputs": [],
   "source": [
    "# 김경보 멋쟁이"
   ]
  }
 ],
 "metadata": {
  "kernelspec": {
   "display_name": "conda-env-311",
   "language": "python",
   "name": "python3"
  },
  "language_info": {
   "codemirror_mode": {
    "name": "ipython",
    "version": 3
   },
   "file_extension": ".py",
   "mimetype": "text/x-python",
   "name": "python",
   "nbconvert_exporter": "python",
   "pygments_lexer": "ipython3",
   "version": "3.11.11"
  }
 },
 "nbformat": 4,
 "nbformat_minor": 5
}
