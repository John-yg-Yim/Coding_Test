{
 "cells": [
  {
   "cell_type": "code",
   "execution_count": 2,
   "id": "9e36137f",
   "metadata": {},
   "outputs": [],
   "source": [
    "s1 = \"()\"\n",
    "s2 = \"()[]{}\"\n",
    "s3 = \"(]\"\n",
    "s4 = \"([])\"\n",
    "s5 = \"]\""
   ]
  },
  {
   "cell_type": "code",
   "execution_count": 5,
   "id": "094852f5",
   "metadata": {},
   "outputs": [],
   "source": [
    "def ValidParentheses(s): \n",
    "    stack = []\n",
    "    if s[0] ==\")\" or s[0] ==\"}\" or s[0] ==\"]\":\n",
    "        return False\n",
    "    else:\n",
    "        for i in range(len(s)):\n",
    "            if s[i] == '(' or s[i] == '{' or s[i]==\"[\":\n",
    "                stack.append(s[i])\n",
    "            elif s[i] == \")\":\n",
    "                if stack[-1] == \"(\":\n",
    "                    stack.pop()\n",
    "                else:\n",
    "                    return False\n",
    "            elif s[i] == \"}\":\n",
    "                if stack[-1] ==\"{\":\n",
    "                    stack.pop()\n",
    "                else:\n",
    "                    return False\n",
    "            elif s[i] ==\"]\":\n",
    "                if stack[-1]==\"[\":\n",
    "                    stack.pop()\n",
    "                else:\n",
    "                    return False\n",
    "            else:\n",
    "                raise ValueError(f\"잘못된 문자열: {s[i]}\")\n",
    "        return not stack"
   ]
  },
  {
   "cell_type": "code",
   "execution_count": 6,
   "id": "8708cd4e",
   "metadata": {},
   "outputs": [
    {
     "name": "stdout",
     "output_type": "stream",
     "text": [
      "True\n",
      "True\n",
      "False\n",
      "True\n",
      "False\n"
     ]
    }
   ],
   "source": [
    "print(ValidParentheses(s1))\n",
    "print(ValidParentheses(s2))\n",
    "print(ValidParentheses(s3))\n",
    "print(ValidParentheses(s4))\n",
    "print(ValidParentheses(s5))"
   ]
  },
  {
   "cell_type": "code",
   "execution_count": null,
   "id": "24847a85",
   "metadata": {},
   "outputs": [],
   "source": []
  }
 ],
 "metadata": {
  "kernelspec": {
   "display_name": "python-env-311",
   "language": "python",
   "name": "python3"
  },
  "language_info": {
   "codemirror_mode": {
    "name": "ipython",
    "version": 3
   },
   "file_extension": ".py",
   "mimetype": "text/x-python",
   "name": "python",
   "nbconvert_exporter": "python",
   "pygments_lexer": "ipython3",
   "version": "3.11.11"
  }
 },
 "nbformat": 4,
 "nbformat_minor": 5
}
