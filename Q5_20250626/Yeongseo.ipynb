{
 "cells": [
  {
   "cell_type": "code",
   "execution_count": 18,
   "id": "6076e6d4",
   "metadata": {},
   "outputs": [],
   "source": [
    "s1 = \"()\"\n",
    "s2 = \"()[]{}\"\n",
    "s3 = \"(]\"\n",
    "s4 = \"([])\"\n",
    "s5 = \"]\""
   ]
  },
  {
   "cell_type": "code",
   "execution_count": 21,
   "id": "eb9f425f",
   "metadata": {},
   "outputs": [],
   "source": [
    "def ValidParentheses(s):\n",
    "    stack = []\n",
    "    if s[0] == \")\" or s[0] == \"}\" or s[0] == \"]\":\n",
    "        return False\n",
    "    else:\n",
    "        for i in range(len(s)):\n",
    "            if s[i] == '(' or s[i] == '{' or s[i] == \"[\":\n",
    "                stack.append(s[i])\n",
    "            elif s[i] == \")\":\n",
    "                if stack[-1] == \"(\":\n",
    "                    stack.pop()\n",
    "                else:\n",
    "                    return False\n",
    "            elif s[i] == \"}\":\n",
    "                if stack[-1] == \"{\":\n",
    "                    stack.pop()\n",
    "                else:\n",
    "                    return False\n",
    "            elif s[i] == \"]\":\n",
    "                if stack[-1] == \"[\":\n",
    "                    stack.pop()\n",
    "                else:\n",
    "                    return False\n",
    "            else:\n",
    "                raise ValueError(f\"잘못된 문자열: {s[i]}\")\n",
    "    \n",
    "        return not stack"
   ]
  },
  {
   "cell_type": "code",
   "execution_count": 24,
   "id": "556989e7",
   "metadata": {},
   "outputs": [
    {
     "name": "stdout",
     "output_type": "stream",
     "text": [
      "True\n",
      "True\n",
      "False\n",
      "True\n",
      "False\n"
     ]
    }
   ],
   "source": [
    "print(ValidParentheses(s1))\n",
    "print(ValidParentheses(s2))\n",
    "print(ValidParentheses(s3))\n",
    "print(ValidParentheses(s4))\n",
    "print(ValidParentheses(s5))"
   ]
  },
  {
   "cell_type": "code",
   "execution_count": 1,
   "id": "eba4660d",
   "metadata": {},
   "outputs": [],
   "source": [
    "strings = ['(', ')', '{', '}', '[', ']']"
   ]
  },
  {
   "cell_type": "code",
   "execution_count": 2,
   "id": "01bd090e",
   "metadata": {},
   "outputs": [
    {
     "name": "stdout",
     "output_type": "stream",
     "text": [
      "(\n",
      ")\n",
      "{\n",
      "}\n",
      "[\n",
      "]\n"
     ]
    }
   ],
   "source": [
    "for string in strings:\n",
    "    print(string)"
   ]
  },
  {
   "cell_type": "code",
   "execution_count": 3,
   "id": "f0ae7994",
   "metadata": {},
   "outputs": [
    {
     "name": "stdout",
     "output_type": "stream",
     "text": [
      "0 (\n",
      "1 )\n",
      "2 {\n",
      "3 }\n",
      "4 [\n",
      "5 ]\n"
     ]
    }
   ],
   "source": [
    "for i, v in enumerate(strings):\n",
    "    print(i, v)"
   ]
  },
  {
   "cell_type": "code",
   "execution_count": 5,
   "id": "ba3db463",
   "metadata": {},
   "outputs": [],
   "source": [
    "my_dict = {'(':')', \n",
    "           '{':'}', \n",
    "           '[':']'}"
   ]
  },
  {
   "cell_type": "code",
   "execution_count": 3,
   "id": "66f21c39",
   "metadata": {},
   "outputs": [],
   "source": [
    "def find_key_by_value(dictionary, target_value):\n",
    "    for key, value in dictionary.items():\n",
    "        if value == target_value:\n",
    "            return key\n",
    "    return None\n",
    "\n",
    "my_dict = {'(':')', \n",
    "           '{':'}', \n",
    "           '[':']'}"
   ]
  },
  {
   "cell_type": "code",
   "execution_count": null,
   "id": "42612960",
   "metadata": {},
   "outputs": [],
   "source": []
  }
 ],
 "metadata": {
  "kernelspec": {
   "display_name": "python-env-311",
   "language": "python",
   "name": "python3"
  },
  "language_info": {
   "codemirror_mode": {
    "name": "ipython",
    "version": 3
   },
   "file_extension": ".py",
   "mimetype": "text/x-python",
   "name": "python",
   "nbconvert_exporter": "python",
   "pygments_lexer": "ipython3",
   "version": "3.11.11"
  }
 },
 "nbformat": 4,
 "nbformat_minor": 5
}
