{
 "cells": [
  {
   "cell_type": "code",
   "execution_count": 13,
   "id": "67ec14e6",
   "metadata": {},
   "outputs": [],
   "source": [
    "s1 = \"Hello World\"\n",
    "s2 = \"   fly me   to   the moon  \"\n",
    "s3 = \"luffy is still joyboy\""
   ]
  },
  {
   "cell_type": "code",
   "execution_count": 14,
   "id": "b75e5b5d",
   "metadata": {},
   "outputs": [],
   "source": [
    "def LengthLastWorld(s):\n",
    "    return len(s.strip().split()[-1])"
   ]
  },
  {
   "cell_type": "code",
   "execution_count": 16,
   "id": "f9f07208",
   "metadata": {},
   "outputs": [
    {
     "data": {
      "text/plain": [
       "4"
      ]
     },
     "execution_count": 16,
     "metadata": {},
     "output_type": "execute_result"
    }
   ],
   "source": [
    "LengthLastWorld(s2)"
   ]
  }
 ],
 "metadata": {
  "kernelspec": {
   "display_name": "deeplearning",
   "language": "python",
   "name": "python3"
  },
  "language_info": {
   "codemirror_mode": {
    "name": "ipython",
    "version": 3
   },
   "file_extension": ".py",
   "mimetype": "text/x-python",
   "name": "python",
   "nbconvert_exporter": "python",
   "pygments_lexer": "ipython3",
   "version": "3.11.11"
  }
 },
 "nbformat": 4,
 "nbformat_minor": 5
}
