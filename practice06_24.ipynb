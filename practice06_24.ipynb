{
  "nbformat": 4,
  "nbformat_minor": 0,
  "metadata": {
    "colab": {
      "provenance": [],
      "authorship_tag": "ABX9TyNZK4Az9DMal6E4j6Fb1558",
      "include_colab_link": true
    },
    "kernelspec": {
      "name": "python3",
      "display_name": "Python 3"
    },
    "language_info": {
      "name": "python"
    }
  },
  "cells": [
    {
      "cell_type": "markdown",
      "metadata": {
        "id": "view-in-github",
        "colab_type": "text"
      },
      "source": [
        "<a href=\"https://colab.research.google.com/github/John-yg-Yim/Coding_Test/blob/main/practice06_24.ipynb\" target=\"_parent\"><img src=\"https://colab.research.google.com/assets/colab-badge.svg\" alt=\"Open In Colab\"/></a>"
      ]
    },
    {
      "cell_type": "code",
      "execution_count": 1,
      "metadata": {
        "id": "c2Wx_RDkWYG1"
      },
      "outputs": [],
      "source": [
        "# 주어진 로마 숫자를 정수로 변환.\n",
        "class Solution(object):\n",
        "  def romanToInt(self, s):\n",
        "    \"\"\"\n",
        "    :type s: str\n",
        "    :rtype: int\n",
        "    \"\"\"\n",
        "    answer = {\n",
        "        'I' : 1, 'V' : 5, 'X' : 10, 'L' : 50, 'C' : 100, 'D' : 500, 'M' : 1000\n",
        "    }\n",
        "    total = 0\n",
        "    prev = 0\n",
        "    for char in reversed(s):\n",
        "      curr = answer[char]\n",
        "      if curr < prev:\n",
        "        total -= curr\n",
        "      else:\n",
        "        total += curr\n",
        "      prev = curr\n",
        "    return total"
      ]
    },
    {
      "cell_type": "code",
      "source": [
        "input = \"III\"\n",
        "solution = Solution()\n",
        "result = solution.romanToInt(input)\n",
        "print(result)"
      ],
      "metadata": {
        "colab": {
          "base_uri": "https://localhost:8080/"
        },
        "id": "FHY96qDSXidp",
        "outputId": "f2e3ce18-705a-4575-e54f-beb6f59c557f"
      },
      "execution_count": 2,
      "outputs": [
        {
          "output_type": "stream",
          "name": "stdout",
          "text": [
            "3\n"
          ]
        }
      ]
    },
    {
      "cell_type": "code",
      "source": [
        "input = \"LVIII\"\n",
        "solution = Solution()\n",
        "result = solution.romanToInt(input)\n",
        "print(result)"
      ],
      "metadata": {
        "colab": {
          "base_uri": "https://localhost:8080/"
        },
        "id": "RNa2QOgCXj24",
        "outputId": "1c868845-3e33-41cd-e554-f104be8ea649"
      },
      "execution_count": 3,
      "outputs": [
        {
          "output_type": "stream",
          "name": "stdout",
          "text": [
            "58\n"
          ]
        }
      ]
    },
    {
      "cell_type": "code",
      "source": [
        "input = \"MCMXCIV\"\n",
        "solution = Solution()\n",
        "result = solution.romanToInt(input)\n",
        "print(result)"
      ],
      "metadata": {
        "colab": {
          "base_uri": "https://localhost:8080/"
        },
        "id": "Mdhqc-DnXl4o",
        "outputId": "9edd32c3-293f-4329-f873-cc999c92ce07"
      },
      "execution_count": 4,
      "outputs": [
        {
          "output_type": "stream",
          "name": "stdout",
          "text": [
            "1994\n"
          ]
        }
      ]
    }
  ]
}