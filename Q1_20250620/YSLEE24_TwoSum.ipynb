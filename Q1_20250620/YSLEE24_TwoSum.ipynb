{
 "cells": [
  {
   "cell_type": "code",
   "execution_count": null,
   "id": "128d215b",
   "metadata": {},
   "outputs": [],
   "source": [
    "# Problem Description (문제 설명)\n",
    "\n",
    "\"\"\"\n",
    "Given an array of integers nums and an integer target, return indices of the two numbers such that they add up to target.\n",
    "→ 정수 배열 nums와 정수 target이 주어질 때, 두 수를 더해 target이 되는 두 숫자의 인덱스를 반환하세요.\n",
    "\n",
    "You may assume that each input would have exactly one solution, and you may not use the same element twice.\n",
    "→ 정답은 항상 하나만 존재하며, 같은 원소를 두 번 사용할 수 없습니다.\n",
    "\n",
    "You can return the answer in any order.\n",
    "→ 반환 순서는 상관없습니다.\n",
    "\"\"\""
   ]
  },
  {
   "cell_type": "code",
   "execution_count": null,
   "id": "f23e1962",
   "metadata": {},
   "outputs": [
    {
     "name": "stdout",
     "output_type": "stream",
     "text": [
      "[0, 4]\n",
      "[4, 6]\n"
     ]
    }
   ],
   "source": [
    "# Example 1\n",
    "\n",
    "# Input: \n",
    "nums = [2, 7, 11, 15]\n",
    "target = 9\n",
    "# nums_dict = {2: 0, 7: 1, 11: 2, 15: 3}\n",
    "\n",
    "# Output : [0, 1] # 인덱스 = 순서쌍 -> nums[0] + nums[1]\n",
    "\n",
    "for i in range(len(nums)):\n",
    "    for j in range(i+1, len(nums)):\n",
    "        if nums[i] + nums[j] == 9:\n",
    "            print([i, j])"
   ]
  },
  {
   "cell_type": "code",
   "execution_count": 3,
   "id": "9ad11254",
   "metadata": {},
   "outputs": [
    {
     "name": "stdout",
     "output_type": "stream",
     "text": [
      "[2, 4]\n"
     ]
    }
   ],
   "source": [
    "# Example 2\n",
    "nums = [3, 2, 4]\n",
    "target = 6\n",
    "\n",
    "# Output : [1, 2]\n",
    "\n",
    "for i in range(len(nums)):\n",
    "    for j in range(i+1, len(nums)):\n",
    "        if nums[i] + nums[j] == 6:\n",
    "            print([nums[i], nums[j]])"
   ]
  },
  {
   "cell_type": "code",
   "execution_count": 6,
   "id": "78a8d167",
   "metadata": {},
   "outputs": [
    {
     "name": "stdout",
     "output_type": "stream",
     "text": [
      "[0, 1]\n"
     ]
    }
   ],
   "source": [
    "# Example 3\n",
    "nums = [3, 3]\n",
    "target = 6\n",
    "\n",
    "# Output : [0, 1]\n",
    "\n",
    "for i in range(len(nums)):\n",
    "    for j in range(i+1, len(nums)):\n",
    "        if nums[i] + nums[j] == 6:\n",
    "            print([i, j])"
   ]
  },
  {
   "cell_type": "code",
   "execution_count": null,
   "id": "98df13f4",
   "metadata": {},
   "outputs": [],
   "source": [
    "# Constraints (제약 조건)\n",
    "\"\"\"\n",
    "2 <= nums.length <= 10⁴\n",
    "-10⁹ <= nums[i] <= 10⁹\n",
    "-10⁹ <= target <= 10⁹\n",
    "Only one valid answer exists.\n",
    "→ 정답은 반드시 하나 존재합니다.\n",
    "\"\"\""
   ]
  },
  {
   "cell_type": "code",
   "execution_count": null,
   "id": "a6c1c35c",
   "metadata": {},
   "outputs": [],
   "source": [
    "# Follow-up (심화 질문)\n",
    "\"\"\"\n",
    "Can you come up with an algorithm that has better than O(n²) time complexity?\n",
    "→ **O(n²)**보다 효율적인 알고리즘을 떠올릴 수 있나요?\n",
    "\"\"\"\n",
    "\n"
   ]
  }
 ],
 "metadata": {
  "kernelspec": {
   "display_name": "python-env-311",
   "language": "python",
   "name": "python3"
  },
  "language_info": {
   "codemirror_mode": {
    "name": "ipython",
    "version": 3
   },
   "file_extension": ".py",
   "mimetype": "text/x-python",
   "name": "python",
   "nbconvert_exporter": "python",
   "pygments_lexer": "ipython3",
   "version": "3.11.11"
  }
 },
 "nbformat": 4,
 "nbformat_minor": 5
}
